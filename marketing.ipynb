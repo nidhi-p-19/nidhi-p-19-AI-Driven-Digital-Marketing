{
  "nbformat": 4,
  "nbformat_minor": 0,
  "metadata": {
    "colab": {
      "provenance": []
    },
    "kernelspec": {
      "name": "python3",
      "display_name": "Python 3"
    },
    "language_info": {
      "name": "python"
    }
  },
  "cells": [
    {
      "cell_type": "markdown",
      "source": [
        "# 1️⃣ Blanket Industry (Mahakumbh Opportunity)\n",
        "**💡 Objective: Use AI-powered digital marketing to maximize brand visibility, drive bulk sales, and integrate with corporate CSR initiatives.**"
      ],
      "metadata": {
        "id": "iBCJpPPCtpuj"
      }
    },
    {
      "cell_type": "markdown",
      "source": [
        "**✅ AI-Based Ad Targeting**(ex: brand: Mehak Handlooms)\n",
        "\n",
        "*   Google Trends API & Meta Ads → Identify regional demand spikes for \"Kumbh essentials\", adjust ad spend dynamically.\n",
        "*   Hyperlocal Ad Targeting → Serve geo-targeted Instagram & Facebook ads in regions where Mahakumbh pilgrims are active.\n",
        "\n"
      ],
      "metadata": {
        "id": "AruTe-InuUjh"
      }
    },
    {
      "cell_type": "code",
      "source": [
        "!pip install pytrends pandas matplotlib"
      ],
      "metadata": {
        "colab": {
          "base_uri": "https://localhost:8080/"
        },
        "id": "USliggJBcD7W",
        "outputId": "2f6264a3-2de9-4b27-9842-262be0878d1e"
      },
      "execution_count": 2,
      "outputs": [
        {
          "output_type": "stream",
          "name": "stdout",
          "text": [
            "Collecting pytrends\n",
            "  Downloading pytrends-4.9.2-py3-none-any.whl.metadata (13 kB)\n",
            "Requirement already satisfied: pandas in /usr/local/lib/python3.11/dist-packages (2.2.2)\n",
            "Requirement already satisfied: matplotlib in /usr/local/lib/python3.11/dist-packages (3.10.0)\n",
            "Requirement already satisfied: requests>=2.0 in /usr/local/lib/python3.11/dist-packages (from pytrends) (2.32.3)\n",
            "Requirement already satisfied: lxml in /usr/local/lib/python3.11/dist-packages (from pytrends) (5.3.0)\n",
            "Requirement already satisfied: numpy>=1.23.2 in /usr/local/lib/python3.11/dist-packages (from pandas) (1.26.4)\n",
            "Requirement already satisfied: python-dateutil>=2.8.2 in /usr/local/lib/python3.11/dist-packages (from pandas) (2.8.2)\n",
            "Requirement already satisfied: pytz>=2020.1 in /usr/local/lib/python3.11/dist-packages (from pandas) (2024.2)\n",
            "Requirement already satisfied: tzdata>=2022.7 in /usr/local/lib/python3.11/dist-packages (from pandas) (2025.1)\n",
            "Requirement already satisfied: contourpy>=1.0.1 in /usr/local/lib/python3.11/dist-packages (from matplotlib) (1.3.1)\n",
            "Requirement already satisfied: cycler>=0.10 in /usr/local/lib/python3.11/dist-packages (from matplotlib) (0.12.1)\n",
            "Requirement already satisfied: fonttools>=4.22.0 in /usr/local/lib/python3.11/dist-packages (from matplotlib) (4.55.6)\n",
            "Requirement already satisfied: kiwisolver>=1.3.1 in /usr/local/lib/python3.11/dist-packages (from matplotlib) (1.4.8)\n",
            "Requirement already satisfied: packaging>=20.0 in /usr/local/lib/python3.11/dist-packages (from matplotlib) (24.2)\n",
            "Requirement already satisfied: pillow>=8 in /usr/local/lib/python3.11/dist-packages (from matplotlib) (11.1.0)\n",
            "Requirement already satisfied: pyparsing>=2.3.1 in /usr/local/lib/python3.11/dist-packages (from matplotlib) (3.2.1)\n",
            "Requirement already satisfied: six>=1.5 in /usr/local/lib/python3.11/dist-packages (from python-dateutil>=2.8.2->pandas) (1.17.0)\n",
            "Requirement already satisfied: charset-normalizer<4,>=2 in /usr/local/lib/python3.11/dist-packages (from requests>=2.0->pytrends) (3.4.1)\n",
            "Requirement already satisfied: idna<4,>=2.5 in /usr/local/lib/python3.11/dist-packages (from requests>=2.0->pytrends) (3.10)\n",
            "Requirement already satisfied: urllib3<3,>=1.21.1 in /usr/local/lib/python3.11/dist-packages (from requests>=2.0->pytrends) (2.3.0)\n",
            "Requirement already satisfied: certifi>=2017.4.17 in /usr/local/lib/python3.11/dist-packages (from requests>=2.0->pytrends) (2024.12.14)\n",
            "Downloading pytrends-4.9.2-py3-none-any.whl (15 kB)\n",
            "Installing collected packages: pytrends\n",
            "Successfully installed pytrends-4.9.2\n"
          ]
        }
      ]
    },
    {
      "cell_type": "code",
      "source": [
        "import time\n",
        "from pytrends.request import TrendReq\n",
        "import pandas as pd\n",
        "import matplotlib.pyplot as plt\n",
        "\n",
        "# Initialize Google Trends API\n",
        "pytrends = TrendReq(hl='en-US', tz=360)\n",
        "\n",
        "# Define keyword batch (max 5 per request)\n",
        "keywords = [\"blanket\", \"winter blanket\", \"blanket price\"]\n",
        "\n",
        "# Set timeframe and geo\n",
        "timeframe = 'today 1-m'  # Past 1 month\n",
        "geo = 'IN'  # India\n",
        "\n",
        "# Fetch trends data\n",
        "try:\n",
        "    print(f\"Fetching trends for: {keywords}\")\n",
        "\n",
        "    pytrends.build_payload(kw_list=keywords, timeframe=timeframe, geo=geo)\n",
        "    trends_data = pytrends.interest_over_time()\n",
        "\n",
        "    # Drop 'isPartial' column if it exists\n",
        "    if 'isPartial' in trends_data.columns:\n",
        "        trends_data = trends_data.drop(columns=['isPartial'])\n",
        "\n",
        "    # Plot trends data\n",
        "    plt.figure(figsize=(12, 6))\n",
        "    for keyword in keywords:\n",
        "        plt.plot(trends_data.index, trends_data[keyword], label=keyword)\n",
        "\n",
        "    plt.title(\"Google Trends Interest Over Time (India)\")\n",
        "    plt.xlabel(\"Date\")\n",
        "    plt.ylabel(\"Interest Level\")\n",
        "    plt.legend()\n",
        "    plt.xticks(rotation=45)\n",
        "    plt.grid(True)\n",
        "    plt.show()\n",
        "\n",
        "except Exception as e:\n",
        "    print(f\"Error fetching trends: {e}\")\n",
        "\n",
        "# Display Data\n",
        "print(trends_data.head())\n"
      ],
      "metadata": {
        "colab": {
          "base_uri": "https://localhost:8080/",
          "height": 816
        },
        "id": "cUTUUEVUxO_N",
        "outputId": "d5539f46-9b1f-402d-d636-2f398928795c"
      },
      "execution_count": 7,
      "outputs": [
        {
          "output_type": "stream",
          "name": "stdout",
          "text": [
            "Fetching trends for: ['blanket', 'winter blanket', 'blanket price']\n"
          ]
        },
        {
          "output_type": "stream",
          "name": "stderr",
          "text": [
            "/usr/local/lib/python3.11/dist-packages/pytrends/request.py:260: FutureWarning: Downcasting object dtype arrays on .fillna, .ffill, .bfill is deprecated and will change in a future version. Call result.infer_objects(copy=False) instead. To opt-in to the future behavior, set `pd.set_option('future.no_silent_downcasting', True)`\n",
            "  df = df.fillna(False)\n"
          ]
        },
        {
          "output_type": "display_data",
          "data": {
            "text/plain": [
              "<Figure size 1200x600 with 1 Axes>"
            ],
            "image/png": "[encoded data removed]"
          },
          "metadata": {}
        },
        {
          "output_type": "stream",
          "name": "stdout",
          "text": [
            "            blanket  winter blanket  blanket price\n",
            "date                                              \n",
            "2024-12-29       79               8              5\n",
            "2024-12-30       82               6              5\n",
            "2024-12-31       74               8              4\n",
            "2025-01-01       82               9              5\n",
            "2025-01-02       93               8              6\n"
          ]
        }
      ]
    },
    {
      "cell_type": "code",
      "source": [
        "plt.show()"
      ],
      "metadata": {
        "id": "PxPZ-kYhuFw0"
      },
      "execution_count": 6,
      "outputs": []
    },
    {
      "cell_type": "markdown",
      "source": [
        "**✅ Omnichannel & Influencer Strategy**\n",
        "\n",
        "*   Instagram Reels → Feature artisan blanket-making process.\n",
        "\n",
        "*   Kumbh Edition Launch → Co-brand \"Blessing Warmth\" blankets with NGOs & corporates for bulk CSR partnerships.\n",
        "\n",
        "\n",
        "\n"
      ],
      "metadata": {
        "id": "mF1LC66Cxjk_"
      }
    },
    {
      "cell_type": "code",
      "source": [
        "from transformers import pipeline\n",
        "\n",
        "# Load sentiment analysis model\n",
        "sentiment_analyzer = pipeline(\"sentiment-analysis\")\n",
        "\n",
        "# Sample Instagram comments from Kumbh posts\n",
        "comments = [\n",
        "    \"These blankets are amazing! Love the softness.\",\n",
        "    \"Great initiative to donate blankets at Kumbh.\",\n",
        "    \"Why is the price so high? Should be more affordable.\",\n",
        "]\n",
        "\n",
        "# Analyze sentiment for each comment\n",
        "for comment in comments:\n",
        "    sentiment = sentiment_analyzer(comment)\n",
        "    print(f\"Comment: {comment} → Sentiment: {sentiment[0]}\")"
      ],
      "metadata": {
        "colab": {
          "base_uri": "https://localhost:8080/"
        },
        "id": "k964hQV9x170",
        "outputId": "767bccc8-9bf7-46b3-a49e-70a1221cdedf"
      },
      "execution_count": null,
      "outputs": [
        {
          "output_type": "stream",
          "name": "stderr",
          "text": [
            "No model was supplied, defaulted to distilbert/distilbert-base-uncased-finetuned-sst-2-english and revision 714eb0f (https://huggingface.co/distilbert/distilbert-base-uncased-finetuned-sst-2-english).\n",
            "Using a pipeline without specifying a model name and revision in production is not recommended.\n",
            "Device set to use cpu\n"
          ]
        },
        {
          "output_type": "stream",
          "name": "stdout",
          "text": [
            "Comment: These blankets are amazing! Love the softness. → Sentiment: {'label': 'POSITIVE', 'score': 0.9998860359191895}\n",
            "Comment: Great initiative to donate blankets at Kumbh. → Sentiment: {'label': 'POSITIVE', 'score': 0.999466598033905}\n",
            "Comment: Why is the price so high? Should be more affordable. → Sentiment: {'label': 'NEGATIVE', 'score': 0.9943547248840332}\n"
          ]
        }
      ]
    },
    {
      "cell_type": "markdown",
      "source": [
        " Use insights to optimize hashtags & content. If positive sentiment rises, increase influencer collaborations."
      ],
      "metadata": {
        "id": "CYz-zTGmzE7J"
      }
    },
    {
      "cell_type": "markdown",
      "source": [
        "1. Co-Branded Kits: Partner with Panipat manufacturers to create “Pilgrim Packs” (blanket + hygiene kit + snacks).\n",
        "\n",
        "Example: \"BlessPack by Dettol\" (blanket + sanitizer + ORS sachets).\n",
        "\n",
        "2. Digital Charity Campaign:\n",
        "\n",
        "Launch a “Donate a Blanket, Get a Discount” model on e-commerce platforms.\n",
        "\n",
        "Use UPI QR codes at Kumbh for instant donations linked to brand rewards."
      ],
      "metadata": {
        "id": "3o8m7Oupzenq"
      }
    },
    {
      "cell_type": "code",
      "source": [
        "!pip install qrcode"
      ],
      "metadata": {
        "colab": {
          "base_uri": "https://localhost:8080/"
        },
        "id": "h_mdKR29zJdM",
        "outputId": "f04f43c4-ba58-4a92-c291-0db504059144"
      },
      "execution_count": null,
      "outputs": [
        {
          "output_type": "stream",
          "name": "stdout",
          "text": [
            "Collecting qrcode\n",
            "  Downloading qrcode-8.0-py3-none-any.whl.metadata (17 kB)\n",
            "Downloading qrcode-8.0-py3-none-any.whl (45 kB)\n",
            "\u001b[2K   \u001b[90m━━━━━━━━━━━━━━━━━━━━━━━━━━━━━━━━━━━━━━━━\u001b[0m \u001b[32m45.7/45.7 kB\u001b[0m \u001b[31m2.6 MB/s\u001b[0m eta \u001b[36m0:00:00\u001b[0m\n",
            "\u001b[?25hInstalling collected packages: qrcode\n",
            "Successfully installed qrcode-8.0\n"
          ]
        }
      ]
    },
    {
      "cell_type": "code",
      "source": [
        "import qrcode\n",
        "\n",
        "# Generate QR Code for blanket donation campaign\n",
        "data = \"https://www.brandsite.com/kumbh-blanket-donation\"\n",
        "qr = qrcode.make(data)\n",
        "\n",
        "# Save QR Code image\n",
        "qr.save(\"kumbh_qr_code.png\")\n",
        "\n",
        "print(\"QR Code Generated Successfully!\")"
      ],
      "metadata": {
        "colab": {
          "base_uri": "https://localhost:8080/"
        },
        "id": "8WRMktyey-NY",
        "outputId": "e6c44215-64ff-4afb-d8ad-e1f2455ec47b"
      },
      "execution_count": null,
      "outputs": [
        {
          "output_type": "stream",
          "name": "stdout",
          "text": [
            "QR Code Generated Successfully!\n"
          ]
        }
      ]
    },
    {
      "cell_type": "markdown",
      "source": [
        "# 2️⃣ Luxury Backpack Market"
      ],
      "metadata": {
        "id": "JG8ttoYQzu7j"
      }
    },
    {
      "cell_type": "markdown",
      "source": [
        "\n",
        "\n",
        "```\n",
        "# This is formatted as code\n",
        "```\n",
        "\n",
        "**💡 Objective: Position luxury backpacks as status symbols for professionals, digital nomads, and travelers.**"
      ],
      "metadata": {
        "id": "mEpQ5Moy0OJb"
      }
    },
    {
      "cell_type": "markdown",
      "source": [
        "AI-Powered Customer Segmentation\n",
        "\n",
        "K-Means Clustering for luxury vs. utility backpack buyers."
      ],
      "metadata": {
        "id": "XtrBMEuF1MMq"
      }
    },
    {
      "cell_type": "code",
      "source": [
        "from sklearn.cluster import KMeans\n",
        "import pandas as pd\n",
        "\n",
        "# Simulated Customer Data\n",
        "data = pd.DataFrame({\n",
        "    'age': [25, 32, 40, 19, 45],\n",
        "    'travel_frequency': [10, 2, 6, 12, 3],\n",
        "    'eco_interest': [0.8, 0.3, 0.5, 0.9, 0.2]\n",
        "})\n",
        "\n",
        "# K-Means Clustering for Segmentation\n",
        "kmeans = KMeans(n_clusters=3)\n",
        "data['segment'] = kmeans.fit_predict(data[['travel_frequency', 'eco_interest']])\n",
        "\n",
        "print(data)"
      ],
      "metadata": {
        "colab": {
          "base_uri": "https://localhost:8080/"
        },
        "id": "2OF7qFLezxOJ",
        "outputId": "8ec5acf0-1319-4139-c77a-f072a41a1950"
      },
      "execution_count": null,
      "outputs": [
        {
          "output_type": "stream",
          "name": "stdout",
          "text": [
            "   age  travel_frequency  eco_interest  segment\n",
            "0   25                10           0.8        1\n",
            "1   32                 2           0.3        0\n",
            "2   40                 6           0.5        2\n",
            "3   19                12           0.9        1\n",
            "4   45                 3           0.2        0\n"
          ]
        }
      ]
    },
    {
      "cell_type": "markdown",
      "source": [
        "✅ Influencer Marketing Strategy\n",
        "\n",
        "#BackpackBoss Campaign → AI-driven TikTok & Instagram Reels challenge.\n",
        "Travel & Corporate Influencers → Feature \"Luxury Office Chic Backpacks\".\n",
        "Limited Edition Branding → Partner with Indian designers for premium leather editions.\n",
        "📌 Omnichannel Expansion\n",
        "\n",
        "WeWork Pop-Up Stores → Convert co-working professionals.\n",
        "WhatsApp Commerce → AI chatbots recommend backpacks based on user lifestyle & profession."
      ],
      "metadata": {
        "id": "fqtT1fQm1T9_"
      }
    },
    {
      "cell_type": "code",
      "source": [
        "import pandas as pd\n",
        "import numpy as np\n",
        "from sklearn.cluster import KMeans\n",
        "\n",
        "# Generate Dummy Data for Customer Segmentation\n",
        "np.random.seed(42)\n",
        "\n",
        "data = pd.DataFrame({\n",
        "    'age': np.random.randint(18, 60, 100),  # Age between 18 and 60\n",
        "    'travel_frequency': np.random.randint(0, 20, 100),  # Number of travels per year\n",
        "    'eco_interest': np.random.uniform(0, 1, 100)  # Interest in sustainability (0-1 scale)\n",
        "})\n",
        "\n",
        "# Apply K-Means Clustering for Segmentation\n",
        "kmeans = KMeans(n_clusters=3, random_state=42)\n",
        "data['segment'] = kmeans.fit_predict(data[['travel_frequency', 'eco_interest']])\n",
        "\n",
        "# Display segmented data\n",
        "print(data.head())  # Display the first few rows of the dataset\n",
        "\n",
        "# Save the data to a CSV file for further analysis if needed\n",
        "data.to_csv(\"luxury_backpack_customer_segmentation.csv\", index=False)\n",
        "\n",
        "# Show basic statistics of each segment\n",
        "segment_summary = data.groupby(\"segment\").mean()\n",
        "print(\"\\nSegment Summary:\\n\", segment_summary)"
      ],
      "metadata": {
        "colab": {
          "base_uri": "https://localhost:8080/"
        },
        "id": "sc7ZsdBo2M3m",
        "outputId": "90db1c72-d436-4eb6-f616-70465c37a690"
      },
      "execution_count": null,
      "outputs": [
        {
          "output_type": "stream",
          "name": "stdout",
          "text": [
            "   age  travel_frequency  eco_interest  segment\n",
            "0   56                 8      0.150718        0\n",
            "1   46                 7      0.508199        0\n",
            "2   32                11      0.695813        0\n",
            "3   25                 1      0.858359        1\n",
            "4   38                 0      0.325959        1\n",
            "\n",
            "Segment Summary:\n",
            "                age  travel_frequency  eco_interest\n",
            "segment                                           \n",
            "0        38.241379         10.034483      0.581632\n",
            "1        36.266667          2.822222      0.554355\n",
            "2        40.384615         16.500000      0.485072\n"
          ]
        }
      ]
    },
    {
      "cell_type": "markdown",
      "source": [
        "📢 Insights from AI-Segmented Customers\n",
        "Segment\tAge\tTravel Frequency\tEco-Interest\tMarketing Strategy\n",
        "Luxury Travelers (Segment 0)\t~38 years\t10+ trips/year\tModerate eco-interest\tTarget with luxury travel backpacks\n",
        "Eco-Conscious Buyers (Segment 1)\t~36 years\tLow travel frequency\tHigh eco-interest\tPromote sustainable vegan leather backpacks\n",
        "General Buyers (Segment 2)\t~40 years\tVery frequent travelers (16+)\tLow eco-interest\tFocus on utility & affordability\n"
      ],
      "metadata": {
        "id": "DnhS2-_e2ksN"
      }
    },
    {
      "cell_type": "code",
      "source": [
        "def generate_ad_copy(segment):\n",
        "    if segment == 0:\n",
        "        return \"🌍 Travel in Style with Our Luxury Leather Backpacks ✈️ Perfect for Digital Nomads & Jetsetters! Shop Now.\"\n",
        "    elif segment == 1:\n",
        "        return \"♻️ Sustainable Fashion is Here! Eco-Friendly Vegan Leather Backpacks – Stylish, Durable, and Guilt-Free. Order Today!\"\n",
        "    elif segment == 2:\n",
        "        return \"💼 The Ultimate Everyday Backpack! Affordable, Durable, and Designed for Modern Life. Get Yours Now!\"\n",
        "    return \"Discover Your Perfect Backpack – Shop Now!\"\n",
        "\n",
        "# Test Ad Copy for Different Segments\n",
        "for i in range(3):\n",
        "    print(f\"Segment {i}: {generate_ad_copy(i)}\")"
      ],
      "metadata": {
        "colab": {
          "base_uri": "https://localhost:8080/"
        },
        "id": "5T2Iu84W2nqm",
        "outputId": "e2c29a0a-779b-42ed-fd4f-6d6dda366d9b"
      },
      "execution_count": null,
      "outputs": [
        {
          "output_type": "stream",
          "name": "stdout",
          "text": [
            "Segment 0: 🌍 Travel in Style with Our Luxury Leather Backpacks ✈️ Perfect for Digital Nomads & Jetsetters! Shop Now.\n",
            "Segment 1: ♻️ Sustainable Fashion is Here! Eco-Friendly Vegan Leather Backpacks – Stylish, Durable, and Guilt-Free. Order Today!\n",
            "Segment 2: 💼 The Ultimate Everyday Backpack! Affordable, Durable, and Designed for Modern Life. Get Yours Now!\n"
          ]
        }
      ]
    },
    {
      "cell_type": "markdown",
      "source": [
        "🎯 Goal: Use Instagram Reels, TikTok Challenges, and YouTube Shorts to create viral #BackpackBoss campaigns.\n",
        "\n",
        "📌 Execution Plan\n",
        "✅ #BackpackBoss Campaign → Travel influencers show \"What’s in My Backpack\" reels.\n",
        "✅ Premium Leather Backpack Showcase → Business influencers highlight luxury backpacks.\n",
        "✅ Eco-Friendly Unboxing Videos → Sustainable influencers review vegan leather backpacks."
      ],
      "metadata": {
        "id": "eobLkEk33GM9"
      }
    },
    {
      "cell_type": "code",
      "source": [
        "# AI-Powered Influencer Marketing Strategy\n",
        "\n",
        "import pandas as pd\n",
        "\n",
        "# Dummy Influencer Data (Follower Count, Engagement Rate, Niche)\n",
        "influencer_data = pd.DataFrame({\n",
        "    'name': [\"@LuxuryTraveler\", \"@EcoVibes\", \"@DailyWorkBag\"],\n",
        "    'followers': [500000, 150000, 80000],\n",
        "    'engagement_rate': [4.5, 7.8, 3.2],  # Higher = better engagement\n",
        "    'niche': [\"Luxury Travel\", \"Eco-Friendly Living\", \"Business Professionals\"]\n",
        "})\n",
        "\n",
        "# Sort influencers by engagement rate\n",
        "top_influencers = influencer_data.sort_values(by=\"engagement_rate\", ascending=False)\n",
        "print(top_influencers)"
      ],
      "metadata": {
        "colab": {
          "base_uri": "https://localhost:8080/"
        },
        "id": "eU7XcNFE29lG",
        "outputId": "594f5957-50f3-46fc-89c6-c51220933273"
      },
      "execution_count": null,
      "outputs": [
        {
          "output_type": "stream",
          "name": "stdout",
          "text": [
            "              name  followers  engagement_rate                   niche\n",
            "1        @EcoVibes     150000              7.8     Eco-Friendly Living\n",
            "0  @LuxuryTraveler     500000              4.5           Luxury Travel\n",
            "2    @DailyWorkBag      80000              3.2  Business Professionals\n"
          ]
        }
      ]
    },
    {
      "cell_type": "code",
      "source": [
        "# Omnichannel Expansion\n",
        "\n",
        "def recommend_backpack(user_type):\n",
        "    if user_type == \"Traveler\":\n",
        "        return \"Ultra-light backpack with TSA-friendly compartments.\"\n",
        "    elif user_type == \"Office Professional\":\n",
        "        return \"Premium leather anti-theft backpack.\"\n",
        "    elif user_type == \"Eco-Conscious\":\n",
        "        return \"Sustainable recycled fabric backpack for a greener future.\"\n",
        "    return \"Find your perfect backpack today!\"\n",
        "\n",
        "# Test Chatbot\n",
        "print(recommend_backpack(\"Traveler\"))"
      ],
      "metadata": {
        "colab": {
          "base_uri": "https://localhost:8080/"
        },
        "id": "3Izz-8j-3KtM",
        "outputId": "ac55bfa7-226a-4a8f-e48a-a5fabfb3847a"
      },
      "execution_count": null,
      "outputs": [
        {
          "output_type": "stream",
          "name": "stdout",
          "text": [
            "Ultra-light backpack with TSA-friendly compartments.\n"
          ]
        }
      ]
    },
    {
      "cell_type": "markdown",
      "source": [
        "📌 Execution Plan\n",
        "✅ WeWork Pop-Up Stores → Display premium backpacks in co-working spaces.\n",
        "✅ WhatsApp Commerce → Use AI Chatbots to recommend backpacks based on user profile.\n",
        "✅ Amazon & Flipkart SEO Optimization → Ensure high search ranking for “Luxury Backpack” queries."
      ],
      "metadata": {
        "id": "z_cuciyb33uW"
      }
    },
    {
      "cell_type": "code",
      "source": [
        "# Product Pricing & Demand Forecasting\n",
        "\n",
        "import numpy as np\n",
        "from sklearn.linear_model import LinearRegression\n",
        "\n",
        "# Simulated Sales Data (Past 6 months)\n",
        "months = np.array([1, 2, 3, 4, 5, 6]).reshape(-1, 1)\n",
        "sales = np.array([100, 150, 180, 220, 300, 350])  # Sales volume\n",
        "\n",
        "# Train Linear Regression Model\n",
        "model = LinearRegression()\n",
        "model.fit(months, sales)\n",
        "\n",
        "# Predict next month's sales\n",
        "future_month = np.array([[7]])\n",
        "predicted_sales = model.predict(future_month)\n",
        "\n",
        "print(f\"Predicted Sales for Next Month: {predicted_sales[0]}\")"
      ],
      "metadata": {
        "colab": {
          "base_uri": "https://localhost:8080/"
        },
        "id": "LIq9pRPC9oSx",
        "outputId": "9a395cc3-4078-4ed9-8352-d949a3bf7d3f"
      },
      "execution_count": null,
      "outputs": [
        {
          "output_type": "stream",
          "name": "stdout",
          "text": [
            "Predicted Sales for Next Month: 390.66666666666663\n"
          ]
        }
      ]
    },
    {
      "cell_type": "markdown",
      "source": [
        "# Pistachio Kunafa Chocolate"
      ],
      "metadata": {
        "id": "Mc7CgQ4E5hli"
      }
    },
    {
      "cell_type": "markdown",
      "source": [
        "**📌 Objective: Create a real-time inventory management system to simulate high demand & increase FOMO (Fear of Missing Out).**\n",
        "\n",
        "> Add blockquote\n",
        "\n"
      ],
      "metadata": {
        "id": "T01WOWmr8PXh"
      }
    },
    {
      "cell_type": "code",
      "source": [
        "# Inventory Tracking System\n",
        "\n",
        "import random\n",
        "\n",
        "# AI-Driven Scarcity Marketing\n",
        "initial_stock = 500  # Initial daily stock\n",
        "\n",
        "def update_stock(sold):\n",
        "    global initial_stock\n",
        "    initial_stock -= sold\n",
        "    print(f\"🔥 Only {initial_stock} left! Order before 3 PM!\")\n",
        "\n",
        "# Simulate real-time stock decrease\n",
        "update_stock(random.randint(10, 50))  # Simulating sales between 10-50 units"
      ],
      "metadata": {
        "colab": {
          "base_uri": "https://localhost:8080/"
        },
        "id": "9sEMy2de34fE",
        "outputId": "e189badb-d273-4cb1-bcca-e32131bef465"
      },
      "execution_count": null,
      "outputs": [
        {
          "output_type": "stream",
          "name": "stdout",
          "text": [
            "🔥 Only 483 left! Order before 3 PM!\n"
          ]
        }
      ]
    },
    {
      "cell_type": "code",
      "source": [
        "# Influencer Marketing Strategy\n",
        "\n",
        "import pandas as pd\n",
        "\n",
        "# Dummy Influencer Data (Followers, Engagement Rate, Niche)\n",
        "influencer_data = pd.DataFrame({\n",
        "    'name': [\"@FoodieDelhi\", \"@DubaiDesserts\", \"@SweetToothMumbai\"],\n",
        "    'followers': [250000, 500000, 120000],\n",
        "    'engagement_rate': [8.2, 9.1, 7.5],  # Higher = better engagement\n",
        "    'niche': [\"Food Vlogs\", \"Luxury Desserts\", \"Viral Chocolates\"]\n",
        "})\n",
        "\n",
        "# Sort influencers by engagement rate\n",
        "top_influencers = influencer_data.sort_values(by=\"engagement_rate\", ascending=False)\n",
        "print(top_influencers)"
      ],
      "metadata": {
        "colab": {
          "base_uri": "https://localhost:8080/"
        },
        "id": "x0_JxKtu8YVG",
        "outputId": "7ab5f983-823b-4fbb-a881-c9b6e92b5735"
      },
      "execution_count": null,
      "outputs": [
        {
          "output_type": "stream",
          "name": "stdout",
          "text": [
            "                name  followers  engagement_rate             niche\n",
            "1     @DubaiDesserts     500000              9.1   Luxury Desserts\n",
            "0       @FoodieDelhi     250000              8.2        Food Vlogs\n",
            "2  @SweetToothMumbai     120000              7.5  Viral Chocolates\n"
          ]
        }
      ]
    },
    {
      "cell_type": "code",
      "source": [
        "# Quick Commerce Strategy\n",
        "\n",
        "# AI Chatbot for Chocolate Pre-Orders\n",
        "def chocolate_pre_order(time):\n",
        "    if time == \"3 PM\":\n",
        "        return \"🔥 Pre-orders now live! Only 500 available.\"\n",
        "    return \"Next batch available at 5 PM.\"\n",
        "\n",
        "print(chocolate_pre_order(\"3 PM\"))"
      ],
      "metadata": {
        "colab": {
          "base_uri": "https://localhost:8080/"
        },
        "id": "A31dWGs_9GPs",
        "outputId": "6f99229a-abc9-461e-a5aa-d1e66cf9f574"
      },
      "execution_count": null,
      "outputs": [
        {
          "output_type": "stream",
          "name": "stdout",
          "text": [
            "🔥 Pre-orders now live! Only 500 available.\n"
          ]
        }
      ]
    },
    {
      "cell_type": "markdown",
      "source": [
        "# \"Dubai Secret Menu\" Pop-Up with quick commerce"
      ],
      "metadata": {
        "id": "mXo7s0Wp9Pqz"
      }
    },
    {
      "cell_type": "code",
      "source": [
        "# Generate a unique secret menu code\n",
        "import random\n",
        "import string\n",
        "\n",
        "def generate_secret_code():\n",
        "    return ''.join(random.choices(string.ascii_uppercase + string.digits, k=6))\n",
        "\n",
        "secret_code = generate_secret_code()\n",
        "print(f\"Exclusive 'Dubai Dessert' Secret Code: {secret_code}\")"
      ],
      "metadata": {
        "colab": {
          "base_uri": "https://localhost:8080/"
        },
        "id": "tu6JT8aj9Jjl",
        "outputId": "1b10842b-5058-414a-9153-c61d07c7c740"
      },
      "execution_count": null,
      "outputs": [
        {
          "output_type": "stream",
          "name": "stdout",
          "text": [
            "Exclusive 'Dubai Dessert' Secret Code: 5CLSRR\n"
          ]
        }
      ]
    },
    {
      "cell_type": "code",
      "source": [
        "#Demand Forecasting\n",
        "\n",
        "import numpy as np\n",
        "from sklearn.linear_model import LinearRegression\n",
        "\n",
        "# Simulated Sales Data (Past 6 months)\n",
        "months = np.array([1, 2, 3, 4, 5, 6]).reshape(-1, 1)\n",
        "sales = np.array([200, 300, 450, 600, 800, 1000])  # Monthly sales volume\n",
        "\n",
        "# Train AI Model\n",
        "model = LinearRegression()\n",
        "model.fit(months, sales)\n",
        "\n",
        "# Predict next month's sales\n",
        "future_month = np.array([[7]])\n",
        "predicted_sales = model.predict(future_month)\n",
        "\n",
        "print(f\"📈 Predicted Sales for Next Month: {predicted_sales[0]}\")"
      ],
      "metadata": {
        "colab": {
          "base_uri": "https://localhost:8080/"
        },
        "id": "96d1nUIf9UuP",
        "outputId": "0d139cd6-e6f4-4fb2-a92e-9c51a568c0b9"
      },
      "execution_count": null,
      "outputs": [
        {
          "output_type": "stream",
          "name": "stdout",
          "text": [
            "📈 Predicted Sales for Next Month: 1123.3333333333335\n"
          ]
        }
      ]
    }
  ]
}